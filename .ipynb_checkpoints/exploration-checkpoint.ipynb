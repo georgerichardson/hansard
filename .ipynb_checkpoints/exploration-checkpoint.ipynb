{
 "cells": [
  {
   "cell_type": "code",
   "execution_count": 8,
   "metadata": {},
   "outputs": [],
   "source": [
    "import gensim\n",
    "import nltk"
   ]
  },
  {
   "cell_type": "code",
   "execution_count": 41,
   "metadata": {
    "collapsed": true
   },
   "outputs": [],
   "source": [
    "from nltk.collocations import BigramCollocationFinder"
   ]
  },
  {
   "cell_type": "code",
   "execution_count": 28,
   "metadata": {
    "collapsed": true
   },
   "outputs": [],
   "source": [
    "import operator"
   ]
  },
  {
   "cell_type": "code",
   "execution_count": 2,
   "metadata": {
    "collapsed": true
   },
   "outputs": [],
   "source": [
    "import pandas as pd"
   ]
  },
  {
   "cell_type": "markdown",
   "metadata": {},
   "source": [
    "## Setup"
   ]
  },
  {
   "cell_type": "code",
   "execution_count": 9,
   "metadata": {},
   "outputs": [],
   "source": [
    "tokenizer = nltk.tokenize.WordPunctTokenizer()\n",
    "lemmatizer = nltk.stem.WordNetLemmatizer()\n",
    "stemmer = nltk.stem.PorterStemmer()"
   ]
  },
  {
   "cell_type": "code",
   "execution_count": 25,
   "metadata": {
    "collapsed": true
   },
   "outputs": [],
   "source": [
    "def prepare_text(text, stop_words):\n",
    "    #tokenizer = nltk.tokenize.WordPunctTokenizer()\n",
    "    tokenizer = nltk.tokenize.SpaceTokenizer()\n",
    "    stemmer = nltk.stem.PorterStemmer()\n",
    "    \n",
    "    tokens = tokenizer.tokenize(text)\n",
    "    tokens = [t for t in tokens if len(t) > 2]\n",
    "    stems = [t for t in tokens if t not in stop_words]\n",
    "    \n",
    "    #stems = [stemmer.stem(t) for t in tokens]\n",
    "    stems = [s.lower() for s in stems]\n",
    "    stems = [s for s in stems if not s.isdigit()]\n",
    "    \n",
    "    return stems"
   ]
  },
  {
   "cell_type": "code",
   "execution_count": 12,
   "metadata": {
    "collapsed": true
   },
   "outputs": [],
   "source": [
    "with open('stop_words_en_long.txt', 'r') as f:\n",
    "    stop_words = f.read()\n",
    "stop_words = stop_words.split('\\n')"
   ]
  },
  {
   "cell_type": "code",
   "execution_count": null,
   "metadata": {
    "collapsed": true
   },
   "outputs": [],
   "source": []
  },
  {
   "cell_type": "code",
   "execution_count": 39,
   "metadata": {
    "collapsed": true
   },
   "outputs": [],
   "source": [
    "def bigram_count(text):\n",
    "\n",
    "    bigram_measures = nltk.collocations.BigramAssocMeasures()\n",
    "    finder = BigramCollocationFinder.from_words(text)\n",
    "    finder.apply_freq_filter(0)\n",
    "    #ignored_words = nltk.corpus.stopwords.words('english')\n",
    "    finder.apply_word_filter(lambda w: len(w) < 3 or w.lower() in ignored_words)\n",
    "\n",
    "    scored = finder.score_ngrams(bigram_measures.likelihood_ratio)\n",
    "\n",
    "    bigrams_dict = {}\n",
    "\n",
    "    for key, score in scored:\n",
    "        if key[0] in bigrams_dict:\n",
    "            bigrams_dict[key[0]].append((key[1], score))\n",
    "        else:\n",
    "            bigrams_dict[key[0]] = [(key[1], score)]\n",
    "\n",
    "    return bigrams_dict\n",
    "\n",
    "def trigram_count(text):\n",
    "\n",
    "    trigram_measures = nltk.collocations.TrigramAssocMeasures()\n",
    "    finder = nltk.TrigramCollocationFinder.from_words(text)\n",
    "    finder.apply_freq_filter(3)\n",
    "    ignored_words = nltk.corpus.stopwords.words('english')\n",
    "    finder.apply_word_filter(lambda w: len(w) < 2 or w.lower() in ignored_words)\n",
    "\n",
    "    scored = finder.score_ngrams(trigram_measures.likelihood_ratio)\n",
    "\n",
    "    trigrams_dict = {}\n",
    "\n",
    "    for key, score in scored:\n",
    "        if key[0] in trigrams_dict:\n",
    "            trigrams_dict[key[0]].append((key[1], key[2], score))\n",
    "        else:\n",
    "            trigrams_dict[key[0]] = [(key[1], key[2], score)]\n",
    "\n",
    "    return trigrams_dict"
   ]
  },
  {
   "cell_type": "code",
   "execution_count": 4,
   "metadata": {},
   "outputs": [],
   "source": [
    "df_c = pd.read_csv('hansard_csv/corbyn.csv')"
   ]
  },
  {
   "cell_type": "code",
   "execution_count": 5,
   "metadata": {
    "collapsed": true
   },
   "outputs": [],
   "source": [
    "df_m = pd.read_csv('hansard_csv/may.csv')"
   ]
  },
  {
   "cell_type": "code",
   "execution_count": 26,
   "metadata": {},
   "outputs": [],
   "source": [
    "df_c['stems'] = df_c['text'].map(lambda x: prepare_text(str(x), stop_words))"
   ]
  },
  {
   "cell_type": "code",
   "execution_count": null,
   "metadata": {
    "collapsed": true
   },
   "outputs": [],
   "source": []
  },
  {
   "cell_type": "code",
   "execution_count": 40,
   "metadata": {},
   "outputs": [
    {
     "data": {
      "text/plain": [
       "{}"
      ]
     },
     "execution_count": 40,
     "metadata": {},
     "output_type": "execute_result"
    }
   ],
   "source": [
    "bigram_count(df_c['text'].iloc[0])"
   ]
  },
  {
   "cell_type": "code",
   "execution_count": 38,
   "metadata": {},
   "outputs": [
    {
     "data": {
      "text/plain": [
       "{}"
      ]
     },
     "execution_count": 38,
     "metadata": {},
     "output_type": "execute_result"
    }
   ],
   "source": []
  },
  {
   "cell_type": "code",
   "execution_count": null,
   "metadata": {
    "collapsed": true
   },
   "outputs": [],
   "source": []
  }
 ],
 "metadata": {
  "kernelspec": {
   "display_name": "Python [nlp3]",
   "language": "python",
   "name": "Python [nlp3]"
  },
  "language_info": {
   "codemirror_mode": {
    "name": "ipython",
    "version": 3
   },
   "file_extension": ".py",
   "mimetype": "text/x-python",
   "name": "python",
   "nbconvert_exporter": "python",
   "pygments_lexer": "ipython3",
   "version": "3.5.2"
  }
 },
 "nbformat": 4,
 "nbformat_minor": 1
}
